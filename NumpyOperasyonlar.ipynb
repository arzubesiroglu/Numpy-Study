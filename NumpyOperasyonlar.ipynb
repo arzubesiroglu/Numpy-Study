{
 "cells": [
  {
   "cell_type": "code",
   "execution_count": 1,
   "id": "630f98a6-63f2-46d0-97bc-2a47ac330782",
   "metadata": {},
   "outputs": [],
   "source": [
    "import numpy as np"
   ]
  },
  {
   "cell_type": "code",
   "execution_count": 2,
   "id": "d9a96d86-522e-400f-abff-41d32b5c8bd2",
   "metadata": {},
   "outputs": [],
   "source": [
    "myArr = np.arange (0,15)"
   ]
  },
  {
   "cell_type": "code",
   "execution_count": 3,
   "id": "34cd51e7-1740-4cf0-9311-5e77fe3cf920",
   "metadata": {},
   "outputs": [
    {
     "data": {
      "text/plain": [
       "array([ 0,  1,  2,  3,  4,  5,  6,  7,  8,  9, 10, 11, 12, 13, 14])"
      ]
     },
     "execution_count": 3,
     "metadata": {},
     "output_type": "execute_result"
    }
   ],
   "source": [
    "myArr"
   ]
  },
  {
   "cell_type": "code",
   "execution_count": 4,
   "id": "09dddbcf-09ec-4eac-9b6a-07f3712d8b6c",
   "metadata": {},
   "outputs": [
    {
     "data": {
      "text/plain": [
       "5"
      ]
     },
     "execution_count": 4,
     "metadata": {},
     "output_type": "execute_result"
    }
   ],
   "source": [
    "myArr[5]"
   ]
  },
  {
   "cell_type": "markdown",
   "id": "10535b05-e8f5-465f-a5ea-286fc11ac624",
   "metadata": {},
   "source": [
    "## slicing"
   ]
  },
  {
   "cell_type": "code",
   "execution_count": 6,
   "id": "e3f2efe6-d78c-415b-a13c-35fc1dc150da",
   "metadata": {},
   "outputs": [
    {
     "data": {
      "text/plain": [
       "array([3, 4, 5, 6, 7])"
      ]
     },
     "execution_count": 6,
     "metadata": {},
     "output_type": "execute_result"
    }
   ],
   "source": [
    "myArr[3:8]    "
   ]
  },
  {
   "cell_type": "code",
   "execution_count": 7,
   "id": "f6a4f668-67e1-439c-a2a3-bda3e5bb5241",
   "metadata": {},
   "outputs": [],
   "source": [
    "myArr[3:8] = -5"
   ]
  },
  {
   "cell_type": "code",
   "execution_count": 8,
   "id": "eb54ee68-0bd0-4e8e-a504-4a7a1043e76b",
   "metadata": {},
   "outputs": [
    {
     "data": {
      "text/plain": [
       "array([ 0,  1,  2, -5, -5, -5, -5, -5,  8,  9, 10, 11, 12, 13, 14])"
      ]
     },
     "execution_count": 8,
     "metadata": {},
     "output_type": "execute_result"
    }
   ],
   "source": [
    "myArr"
   ]
  },
  {
   "cell_type": "code",
   "execution_count": 9,
   "id": "5c1f63ae-8d25-4355-be07-765257332c0c",
   "metadata": {},
   "outputs": [],
   "source": [
    "arr2 = np.arange(0,24)"
   ]
  },
  {
   "cell_type": "code",
   "execution_count": 10,
   "id": "346b275a-6df2-4367-af72-023e51098f78",
   "metadata": {},
   "outputs": [
    {
     "data": {
      "text/plain": [
       "array([ 0,  1,  2,  3,  4,  5,  6,  7,  8,  9, 10, 11, 12, 13, 14, 15, 16,\n",
       "       17, 18, 19, 20, 21, 22, 23])"
      ]
     },
     "execution_count": 10,
     "metadata": {},
     "output_type": "execute_result"
    }
   ],
   "source": [
    "arr2"
   ]
  },
  {
   "cell_type": "code",
   "execution_count": 11,
   "id": "06375fa5-f572-41e7-8366-1c4caa2fb241",
   "metadata": {},
   "outputs": [],
   "source": [
    "slicing_arr = arr2[4:9] "
   ]
  },
  {
   "cell_type": "code",
   "execution_count": 12,
   "id": "73cdcb05-6232-4e0e-8d1b-b55648f20dec",
   "metadata": {},
   "outputs": [
    {
     "data": {
      "text/plain": [
       "array([4, 5, 6, 7, 8])"
      ]
     },
     "execution_count": 12,
     "metadata": {},
     "output_type": "execute_result"
    }
   ],
   "source": [
    "slicing_arr"
   ]
  },
  {
   "cell_type": "code",
   "execution_count": 13,
   "id": "f2c4a7c3-3f05-4546-b933-5f17ddb390c3",
   "metadata": {},
   "outputs": [
    {
     "data": {
      "text/plain": [
       "array([ 0,  1,  2,  3,  4,  5,  6,  7,  8,  9, 10, 11, 12, 13, 14, 15, 16,\n",
       "       17, 18, 19, 20, 21, 22, 23])"
      ]
     },
     "execution_count": 13,
     "metadata": {},
     "output_type": "execute_result"
    }
   ],
   "source": [
    "arr2"
   ]
  },
  {
   "cell_type": "code",
   "execution_count": 14,
   "id": "05c5d6c6-e2dc-42da-b616-92a86079a222",
   "metadata": {},
   "outputs": [
    {
     "data": {
      "text/plain": [
       "numpy.ndarray"
      ]
     },
     "execution_count": 14,
     "metadata": {},
     "output_type": "execute_result"
    }
   ],
   "source": [
    "type(slicing_arr) "
   ]
  },
  {
   "cell_type": "code",
   "execution_count": 15,
   "id": "bd9c5961-067e-4e1f-ae58-435fe4cebd67",
   "metadata": {},
   "outputs": [],
   "source": [
    "slicing_arr[:] = 700"
   ]
  },
  {
   "cell_type": "code",
   "execution_count": 16,
   "id": "880148f8-8809-4bf6-9430-012f55bb6dc1",
   "metadata": {},
   "outputs": [
    {
     "data": {
      "text/plain": [
       "array([700, 700, 700, 700, 700])"
      ]
     },
     "execution_count": 16,
     "metadata": {},
     "output_type": "execute_result"
    }
   ],
   "source": [
    "slicing_arr"
   ]
  },
  {
   "cell_type": "code",
   "execution_count": 17,
   "id": "c4a625e9-0204-447b-bc09-6e47126fdb70",
   "metadata": {},
   "outputs": [
    {
     "data": {
      "text/plain": [
       "array([  0,   1,   2,   3, 700, 700, 700, 700, 700,   9,  10,  11,  12,\n",
       "        13,  14,  15,  16,  17,  18,  19,  20,  21,  22,  23])"
      ]
     },
     "execution_count": 17,
     "metadata": {},
     "output_type": "execute_result"
    }
   ],
   "source": [
    "arr2"
   ]
  },
  {
   "cell_type": "code",
   "execution_count": 18,
   "id": "98842250-11cd-4269-8d00-46fcdc5a429a",
   "metadata": {},
   "outputs": [],
   "source": [
    "arr3 = np.arange(0,24)"
   ]
  },
  {
   "cell_type": "code",
   "execution_count": 19,
   "id": "c26a2fe3-99cc-4acd-acc5-da6136f4b252",
   "metadata": {},
   "outputs": [
    {
     "data": {
      "text/plain": [
       "array([ 0,  1,  2,  3,  4,  5,  6,  7,  8,  9, 10, 11, 12, 13, 14, 15, 16,\n",
       "       17, 18, 19, 20, 21, 22, 23])"
      ]
     },
     "execution_count": 19,
     "metadata": {},
     "output_type": "execute_result"
    }
   ],
   "source": [
    "arr3"
   ]
  },
  {
   "cell_type": "code",
   "execution_count": 20,
   "id": "dccb009d-c91d-4cf7-845c-85a55886b557",
   "metadata": {},
   "outputs": [],
   "source": [
    "arr3Copy = arr3.copy()"
   ]
  },
  {
   "cell_type": "code",
   "execution_count": 21,
   "id": "434b1cbf-e630-4c1a-a911-9d9bce691969",
   "metadata": {},
   "outputs": [
    {
     "data": {
      "text/plain": [
       "array([ 0,  1,  2,  3,  4,  5,  6,  7,  8,  9, 10, 11, 12, 13, 14, 15, 16,\n",
       "       17, 18, 19, 20, 21, 22, 23])"
      ]
     },
     "execution_count": 21,
     "metadata": {},
     "output_type": "execute_result"
    }
   ],
   "source": [
    "arr3Copy"
   ]
  },
  {
   "cell_type": "code",
   "execution_count": 22,
   "id": "9a90bc1f-16c9-4f73-b782-4db46cc50181",
   "metadata": {},
   "outputs": [
    {
     "data": {
      "text/plain": [
       "array([ 0,  1,  2,  3,  4,  5,  6,  7,  8,  9, 10, 11, 12, 13, 14, 15, 16,\n",
       "       17, 18, 19, 20, 21, 22, 23])"
      ]
     },
     "execution_count": 22,
     "metadata": {},
     "output_type": "execute_result"
    }
   ],
   "source": [
    "arr3"
   ]
  },
  {
   "cell_type": "code",
   "execution_count": 23,
   "id": "17c01bfb-d34c-48ed-be58-91d9ac2bc429",
   "metadata": {},
   "outputs": [],
   "source": [
    "arr3CopySlicing = arr3Copy[3:6]"
   ]
  },
  {
   "cell_type": "code",
   "execution_count": 24,
   "id": "f7e121a6-cff9-41f8-a65f-9d1a1c6d3b6a",
   "metadata": {},
   "outputs": [],
   "source": [
    "arr3CopySlicing [:] = 800"
   ]
  },
  {
   "cell_type": "code",
   "execution_count": 25,
   "id": "8029c494-627a-4120-9029-f32694d48220",
   "metadata": {},
   "outputs": [
    {
     "data": {
      "text/plain": [
       "array([800, 800, 800])"
      ]
     },
     "execution_count": 25,
     "metadata": {},
     "output_type": "execute_result"
    }
   ],
   "source": [
    "arr3CopySlicing"
   ]
  },
  {
   "cell_type": "code",
   "execution_count": 26,
   "id": "efe70764-1f3a-4325-9b95-fae222070cad",
   "metadata": {},
   "outputs": [
    {
     "data": {
      "text/plain": [
       "array([  0,   1,   2, 800, 800, 800,   6,   7,   8,   9,  10,  11,  12,\n",
       "        13,  14,  15,  16,  17,  18,  19,  20,  21,  22,  23])"
      ]
     },
     "execution_count": 26,
     "metadata": {},
     "output_type": "execute_result"
    }
   ],
   "source": [
    "arr3Copy"
   ]
  },
  {
   "cell_type": "code",
   "execution_count": 27,
   "id": "18cc5eb1-3f85-4599-916e-87ca62d32610",
   "metadata": {},
   "outputs": [
    {
     "data": {
      "text/plain": [
       "array([ 0,  1,  2,  3,  4,  5,  6,  7,  8,  9, 10, 11, 12, 13, 14, 15, 16,\n",
       "       17, 18, 19, 20, 21, 22, 23])"
      ]
     },
     "execution_count": 27,
     "metadata": {},
     "output_type": "execute_result"
    }
   ],
   "source": [
    "arr3"
   ]
  },
  {
   "cell_type": "markdown",
   "id": "aaf052cc-d39c-485c-bc72-6806514ad9ef",
   "metadata": {},
   "source": [
    "## matrix"
   ]
  },
  {
   "cell_type": "code",
   "execution_count": 28,
   "id": "feebf44e-8bf5-42fa-9a11-f575503a0284",
   "metadata": {},
   "outputs": [],
   "source": [
    "my_list = [[10,20,30,],[20,30,40],[40,50,60]]"
   ]
  },
  {
   "cell_type": "code",
   "execution_count": 29,
   "id": "f6b3501f-d6ce-4638-97fc-0bdb131bf2e4",
   "metadata": {},
   "outputs": [],
   "source": [
    "my_matrix = np.array(my_list)"
   ]
  },
  {
   "cell_type": "code",
   "execution_count": 30,
   "id": "469d623c-85c4-4c2c-a18f-3317a6627038",
   "metadata": {},
   "outputs": [
    {
     "data": {
      "text/plain": [
       "array([[10, 20, 30],\n",
       "       [20, 30, 40],\n",
       "       [40, 50, 60]])"
      ]
     },
     "execution_count": 30,
     "metadata": {},
     "output_type": "execute_result"
    }
   ],
   "source": [
    "my_matrix"
   ]
  },
  {
   "cell_type": "code",
   "execution_count": 31,
   "id": "e93e527c-2ea4-4ef7-8756-74668bfce499",
   "metadata": {},
   "outputs": [
    {
     "data": {
      "text/plain": [
       "array([10, 20, 30])"
      ]
     },
     "execution_count": 31,
     "metadata": {},
     "output_type": "execute_result"
    }
   ],
   "source": [
    "my_matrix[0]"
   ]
  },
  {
   "cell_type": "code",
   "execution_count": 32,
   "id": "4f2d9637-c20d-4719-8524-cedbb50f87eb",
   "metadata": {},
   "outputs": [
    {
     "data": {
      "text/plain": [
       "40"
      ]
     },
     "execution_count": 32,
     "metadata": {},
     "output_type": "execute_result"
    }
   ],
   "source": [
    "my_matrix[1][2]"
   ]
  },
  {
   "cell_type": "code",
   "execution_count": 33,
   "id": "2a558e01-3c0d-441f-8ec7-eb2336f59d13",
   "metadata": {},
   "outputs": [
    {
     "data": {
      "text/plain": [
       "40"
      ]
     },
     "execution_count": 33,
     "metadata": {},
     "output_type": "execute_result"
    }
   ],
   "source": [
    "my_matrix[1,2]"
   ]
  },
  {
   "cell_type": "code",
   "execution_count": 34,
   "id": "d9346f4e-d8b5-46ec-bec6-3fbcf9005e4f",
   "metadata": {},
   "outputs": [
    {
     "data": {
      "text/plain": [
       "array([40, 60])"
      ]
     },
     "execution_count": 34,
     "metadata": {},
     "output_type": "execute_result"
    }
   ],
   "source": [
    "my_matrix[1:, 2]"
   ]
  },
  {
   "cell_type": "code",
   "execution_count": 35,
   "id": "68cd7b90-35c0-4f60-bb31-6c1f89ed0528",
   "metadata": {},
   "outputs": [
    {
     "data": {
      "text/plain": [
       "array([60])"
      ]
     },
     "execution_count": 35,
     "metadata": {},
     "output_type": "execute_result"
    }
   ],
   "source": [
    "my_matrix[2:, 2]"
   ]
  },
  {
   "cell_type": "code",
   "execution_count": 36,
   "id": "bbf04bdc-4339-43df-a771-13f80bab40ab",
   "metadata": {},
   "outputs": [
    {
     "data": {
      "text/plain": [
       "array([30, 40, 60])"
      ]
     },
     "execution_count": 36,
     "metadata": {},
     "output_type": "execute_result"
    }
   ],
   "source": [
    "my_matrix[0:, 2]"
   ]
  },
  {
   "cell_type": "code",
   "execution_count": 37,
   "id": "bacc0c21-feaf-4eb5-b3ca-a627f60a212d",
   "metadata": {},
   "outputs": [
    {
     "data": {
      "text/plain": [
       "array([[60]])"
      ]
     },
     "execution_count": 37,
     "metadata": {},
     "output_type": "execute_result"
    }
   ],
   "source": [
    "my_matrix[2:, 2:]"
   ]
  },
  {
   "cell_type": "code",
   "execution_count": 38,
   "id": "04ab4a2a-c02a-4dda-955d-f2c34106c4b9",
   "metadata": {},
   "outputs": [
    {
     "data": {
      "text/plain": [
       "array([[30, 40],\n",
       "       [50, 60]])"
      ]
     },
     "execution_count": 38,
     "metadata": {},
     "output_type": "execute_result"
    }
   ],
   "source": [
    "my_matrix[1:, 1:]"
   ]
  },
  {
   "cell_type": "code",
   "execution_count": 39,
   "id": "5eae715e-36a0-40f0-a872-d233c6df4145",
   "metadata": {},
   "outputs": [],
   "source": [
    "new_list = [[0,1,2,3,4,],[5,6,7,8,9],[10,11,12,13,14],[15,16,17,18,19],[20,21,22,23,24]]"
   ]
  },
  {
   "cell_type": "code",
   "execution_count": 42,
   "id": "77311ace-50cf-4f4a-8e5b-2d42e8e302c0",
   "metadata": {},
   "outputs": [],
   "source": [
    "new_matrix = np.array(new_list)"
   ]
  },
  {
   "cell_type": "code",
   "execution_count": 43,
   "id": "5a2c9d22-acb3-43bc-ab31-2ca439c9b869",
   "metadata": {},
   "outputs": [
    {
     "data": {
      "text/plain": [
       "array([[ 0,  1,  2,  3,  4],\n",
       "       [ 5,  6,  7,  8,  9],\n",
       "       [10, 11, 12, 13, 14],\n",
       "       [15, 16, 17, 18, 19],\n",
       "       [20, 21, 22, 23, 24]])"
      ]
     },
     "execution_count": 43,
     "metadata": {},
     "output_type": "execute_result"
    }
   ],
   "source": [
    "new_matrix"
   ]
  },
  {
   "cell_type": "code",
   "execution_count": 44,
   "id": "61fd3c91-a062-4f72-9fa0-7adba1a4018e",
   "metadata": {},
   "outputs": [
    {
     "data": {
      "text/plain": [
       "array([10, 11, 12, 13, 14])"
      ]
     },
     "execution_count": 44,
     "metadata": {},
     "output_type": "execute_result"
    }
   ],
   "source": [
    "new_matrix[2]"
   ]
  },
  {
   "cell_type": "code",
   "execution_count": 45,
   "id": "75d78580-d12b-44bf-8544-2fad6865585e",
   "metadata": {},
   "outputs": [
    {
     "data": {
      "text/plain": [
       "array([[ 0,  1,  2,  3,  4],\n",
       "       [10, 11, 12, 13, 14],\n",
       "       [20, 21, 22, 23, 24]])"
      ]
     },
     "execution_count": 45,
     "metadata": {},
     "output_type": "execute_result"
    }
   ],
   "source": [
    "new_matrix[[0,2,4]]   # index listesi (fancy indeks)"
   ]
  },
  {
   "cell_type": "code",
   "execution_count": 46,
   "id": "85c0fda7-4daf-4da8-94bc-e54ee274229e",
   "metadata": {},
   "outputs": [
    {
     "data": {
      "text/plain": [
       "array([[20, 21, 22, 23, 24],\n",
       "       [10, 11, 12, 13, 14],\n",
       "       [ 0,  1,  2,  3,  4]])"
      ]
     },
     "execution_count": 46,
     "metadata": {},
     "output_type": "execute_result"
    }
   ],
   "source": [
    "new_matrix[[4,2,0]]"
   ]
  },
  {
   "cell_type": "markdown",
   "id": "fb86332d-dda4-4a17-a25e-57529b342d66",
   "metadata": {},
   "source": [
    "## numpy operasyonlar"
   ]
  },
  {
   "cell_type": "code",
   "execution_count": 49,
   "id": "e355b88f-ef05-4ac2-99e8-91fa5b922737",
   "metadata": {},
   "outputs": [],
   "source": [
    "arr4 = np.random.randint(1,100,20)"
   ]
  },
  {
   "cell_type": "code",
   "execution_count": 50,
   "id": "6802aec8-ed1b-4fe0-a934-c6a8c255ea10",
   "metadata": {},
   "outputs": [
    {
     "data": {
      "text/plain": [
       "array([91, 64,  5, 72, 92, 80, 77, 43, 93, 36,  3, 37, 55, 32, 50,  4, 96,\n",
       "       27, 27, 31])"
      ]
     },
     "execution_count": 50,
     "metadata": {},
     "output_type": "execute_result"
    }
   ],
   "source": [
    "arr4"
   ]
  },
  {
   "cell_type": "code",
   "execution_count": 51,
   "id": "96fb4973-2aea-4412-86a1-124fe5fbf1b2",
   "metadata": {},
   "outputs": [
    {
     "data": {
      "text/plain": [
       "array([ True,  True, False,  True,  True,  True,  True,  True,  True,\n",
       "        True, False,  True,  True,  True,  True, False,  True,  True,\n",
       "        True,  True])"
      ]
     },
     "execution_count": 51,
     "metadata": {},
     "output_type": "execute_result"
    }
   ],
   "source": [
    "arr4 > 24"
   ]
  },
  {
   "cell_type": "code",
   "execution_count": 52,
   "id": "eed1cdc2-03ff-4d18-a54f-6f9e2d1def4d",
   "metadata": {},
   "outputs": [
    {
     "data": {
      "text/plain": [
       "array([91, 64,  5, 72, 92, 80, 77, 43, 93, 36,  3, 37, 55, 32, 50,  4, 96,\n",
       "       27, 27, 31])"
      ]
     },
     "execution_count": 52,
     "metadata": {},
     "output_type": "execute_result"
    }
   ],
   "source": [
    "arr4"
   ]
  },
  {
   "cell_type": "code",
   "execution_count": 53,
   "id": "f041d4fb-027e-4c9f-b5e9-81482c1ccfc6",
   "metadata": {},
   "outputs": [],
   "source": [
    "arr5 = arr4 > 24"
   ]
  },
  {
   "cell_type": "code",
   "execution_count": 54,
   "id": "affa8b73-dc76-41f9-b27b-0e0f3ef0aaef",
   "metadata": {},
   "outputs": [
    {
     "data": {
      "text/plain": [
       "array([ True,  True, False,  True,  True,  True,  True,  True,  True,\n",
       "        True, False,  True,  True,  True,  True, False,  True,  True,\n",
       "        True,  True])"
      ]
     },
     "execution_count": 54,
     "metadata": {},
     "output_type": "execute_result"
    }
   ],
   "source": [
    "arr5"
   ]
  },
  {
   "cell_type": "code",
   "execution_count": 56,
   "id": "91e82fd4-991b-4fc9-9cf7-d619f686a84b",
   "metadata": {},
   "outputs": [
    {
     "data": {
      "text/plain": [
       "array([91, 64, 72, 92, 80, 77, 43, 93, 36, 37, 55, 32, 50, 96, 27, 27, 31])"
      ]
     },
     "execution_count": 56,
     "metadata": {},
     "output_type": "execute_result"
    }
   ],
   "source": [
    "arr4[arr5]"
   ]
  },
  {
   "cell_type": "code",
   "execution_count": 57,
   "id": "a2bda5ae-36f7-42a2-b2a5-12755fa08709",
   "metadata": {},
   "outputs": [
    {
     "data": {
      "text/plain": [
       "array([91, 64,  5, 72, 92, 80, 77, 43, 93, 36,  3, 37, 55, 32, 50,  4, 96,\n",
       "       27, 27, 31])"
      ]
     },
     "execution_count": 57,
     "metadata": {},
     "output_type": "execute_result"
    }
   ],
   "source": [
    "arr4"
   ]
  },
  {
   "cell_type": "code",
   "execution_count": 58,
   "id": "cf8c3066-8e50-4884-b7db-04387f07c5ae",
   "metadata": {},
   "outputs": [
    {
     "data": {
      "text/plain": [
       "array([91, 64, 72, 92, 80, 77, 43, 93, 36, 37, 55, 32, 50, 96, 27, 27, 31])"
      ]
     },
     "execution_count": 58,
     "metadata": {},
     "output_type": "execute_result"
    }
   ],
   "source": [
    "arr4[arr4>24]"
   ]
  },
  {
   "cell_type": "code",
   "execution_count": 60,
   "id": "7900b40d-7a71-45ef-874d-e35a67f53ef7",
   "metadata": {},
   "outputs": [],
   "source": [
    "arr6 = np.arange(0,24)"
   ]
  },
  {
   "cell_type": "code",
   "execution_count": 61,
   "id": "1d106fb5-227f-4c96-8afa-3a505d24f6fa",
   "metadata": {},
   "outputs": [
    {
     "data": {
      "text/plain": [
       "array([ 0,  1,  2,  3,  4,  5,  6,  7,  8,  9, 10, 11, 12, 13, 14, 15, 16,\n",
       "       17, 18, 19, 20, 21, 22, 23])"
      ]
     },
     "execution_count": 61,
     "metadata": {},
     "output_type": "execute_result"
    }
   ],
   "source": [
    "arr6"
   ]
  },
  {
   "cell_type": "code",
   "execution_count": 62,
   "id": "72482839-5456-4df0-80be-1baeed1cecea",
   "metadata": {},
   "outputs": [
    {
     "data": {
      "text/plain": [
       "array([ 0,  2,  4,  6,  8, 10, 12, 14, 16, 18, 20, 22, 24, 26, 28, 30, 32,\n",
       "       34, 36, 38, 40, 42, 44, 46])"
      ]
     },
     "execution_count": 62,
     "metadata": {},
     "output_type": "execute_result"
    }
   ],
   "source": [
    "arr6 + arr6"
   ]
  },
  {
   "cell_type": "code",
   "execution_count": 63,
   "id": "31418222-6bf6-4982-b3b4-24344535c67a",
   "metadata": {},
   "outputs": [
    {
     "data": {
      "text/plain": [
       "array([  0,   1,   4,   9,  16,  25,  36,  49,  64,  81, 100, 121, 144,\n",
       "       169, 196, 225, 256, 289, 324, 361, 400, 441, 484, 529])"
      ]
     },
     "execution_count": 63,
     "metadata": {},
     "output_type": "execute_result"
    }
   ],
   "source": [
    "arr6 * arr6"
   ]
  },
  {
   "cell_type": "code",
   "execution_count": 64,
   "id": "8611531e-f63d-4aaf-839c-584b3f3ad1ed",
   "metadata": {},
   "outputs": [
    {
     "data": {
      "text/plain": [
       "array([0, 0, 0, 0, 0, 0, 0, 0, 0, 0, 0, 0, 0, 0, 0, 0, 0, 0, 0, 0, 0, 0,\n",
       "       0, 0])"
      ]
     },
     "execution_count": 64,
     "metadata": {},
     "output_type": "execute_result"
    }
   ],
   "source": [
    "arr6 - arr6"
   ]
  },
  {
   "cell_type": "code",
   "execution_count": 65,
   "id": "c9bffb86-21d9-4d18-a986-9f9368245e29",
   "metadata": {},
   "outputs": [
    {
     "name": "stderr",
     "output_type": "stream",
     "text": [
      "C:\\Users\\Ali iskurt\\AppData\\Local\\Temp\\ipykernel_16060\\1649343207.py:1: RuntimeWarning: invalid value encountered in divide\n",
      "  arr6 / arr6\n"
     ]
    },
    {
     "data": {
      "text/plain": [
       "array([nan,  1.,  1.,  1.,  1.,  1.,  1.,  1.,  1.,  1.,  1.,  1.,  1.,\n",
       "        1.,  1.,  1.,  1.,  1.,  1.,  1.,  1.,  1.,  1.,  1.])"
      ]
     },
     "execution_count": 65,
     "metadata": {},
     "output_type": "execute_result"
    }
   ],
   "source": [
    "arr6 / arr6   # 0 / 0 nan"
   ]
  },
  {
   "cell_type": "code",
   "execution_count": 66,
   "id": "364a67db-1c96-4100-ac81-7d5e9d801418",
   "metadata": {},
   "outputs": [
    {
     "data": {
      "text/plain": [
       "array([0.        , 1.        , 1.41421356, 1.73205081, 2.        ,\n",
       "       2.23606798, 2.44948974, 2.64575131, 2.82842712, 3.        ,\n",
       "       3.16227766, 3.31662479, 3.46410162, 3.60555128, 3.74165739,\n",
       "       3.87298335, 4.        , 4.12310563, 4.24264069, 4.35889894,\n",
       "       4.47213595, 4.58257569, 4.69041576, 4.79583152])"
      ]
     },
     "execution_count": 66,
     "metadata": {},
     "output_type": "execute_result"
    }
   ],
   "source": [
    "np.sqrt(arr6)"
   ]
  },
  {
   "cell_type": "code",
   "execution_count": 67,
   "id": "5284ca8e-571e-43bf-955b-5b31308ca1d5",
   "metadata": {},
   "outputs": [
    {
     "data": {
      "text/plain": [
       "23"
      ]
     },
     "execution_count": 67,
     "metadata": {},
     "output_type": "execute_result"
    }
   ],
   "source": [
    "np.max(arr6)"
   ]
  },
  {
   "cell_type": "code",
   "execution_count": 68,
   "id": "5b423343-0dc4-4b72-a767-b6cda80b26c6",
   "metadata": {},
   "outputs": [
    {
     "data": {
      "text/plain": [
       "0"
      ]
     },
     "execution_count": 68,
     "metadata": {},
     "output_type": "execute_result"
    }
   ],
   "source": [
    "np.min(arr6)"
   ]
  },
  {
   "cell_type": "code",
   "execution_count": null,
   "id": "633a47cf-05f3-4238-9b30-10a3449badb8",
   "metadata": {},
   "outputs": [],
   "source": []
  }
 ],
 "metadata": {
  "kernelspec": {
   "display_name": "Python 3 (ipykernel)",
   "language": "python",
   "name": "python3"
  },
  "language_info": {
   "codemirror_mode": {
    "name": "ipython",
    "version": 3
   },
   "file_extension": ".py",
   "mimetype": "text/x-python",
   "name": "python",
   "nbconvert_exporter": "python",
   "pygments_lexer": "ipython3",
   "version": "3.12.4"
  }
 },
 "nbformat": 4,
 "nbformat_minor": 5
}
