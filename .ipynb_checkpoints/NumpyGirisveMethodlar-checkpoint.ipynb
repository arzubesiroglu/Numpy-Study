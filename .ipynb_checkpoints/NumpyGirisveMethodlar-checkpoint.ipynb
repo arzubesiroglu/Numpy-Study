{
 "cells": [
  {
   "cell_type": "code",
   "execution_count": 1,
   "id": "d3442ea1-9d14-4709-af2d-44b180fa38cb",
   "metadata": {},
   "outputs": [],
   "source": [
    "import numpy as np"
   ]
  },
  {
   "cell_type": "markdown",
   "id": "421dbf4a-1bea-4404-a2a3-2eab5f1e5df4",
   "metadata": {},
   "source": [
    "## numpy array"
   ]
  },
  {
   "cell_type": "code",
   "execution_count": 2,
   "id": "958c4a14-d9e2-44f4-acc8-5c69f3823803",
   "metadata": {},
   "outputs": [],
   "source": [
    "my_list = [20,30,40]"
   ]
  },
  {
   "cell_type": "code",
   "execution_count": 3,
   "id": "5d117872-848a-412f-af2f-0f6a8a2df57d",
   "metadata": {},
   "outputs": [
    {
     "data": {
      "text/plain": [
       "list"
      ]
     },
     "execution_count": 3,
     "metadata": {},
     "output_type": "execute_result"
    }
   ],
   "source": [
    "type(my_list)"
   ]
  },
  {
   "cell_type": "code",
   "execution_count": 4,
   "id": "54089c79-78db-44d7-88f9-eb2090955b2e",
   "metadata": {},
   "outputs": [
    {
     "data": {
      "text/plain": [
       "array([20, 30, 40])"
      ]
     },
     "execution_count": 4,
     "metadata": {},
     "output_type": "execute_result"
    }
   ],
   "source": [
    "np.array(my_list)"
   ]
  },
  {
   "cell_type": "code",
   "execution_count": 5,
   "id": "1ca06103-7efa-40bd-945f-727c6cc71e86",
   "metadata": {},
   "outputs": [
    {
     "data": {
      "text/plain": [
       "numpy.ndarray"
      ]
     },
     "execution_count": 5,
     "metadata": {},
     "output_type": "execute_result"
    }
   ],
   "source": [
    "type(np.array(my_list))"
   ]
  },
  {
   "cell_type": "code",
   "execution_count": 6,
   "id": "eb3e79f0-1bd7-469a-899c-a1e6d0986202",
   "metadata": {},
   "outputs": [],
   "source": [
    "matrix_list = [[10,20,30] , [20,30,40], [30,40,50]]"
   ]
  },
  {
   "cell_type": "code",
   "execution_count": 7,
   "id": "f7fa8e43-720e-4659-ad71-c2cd30f0ae46",
   "metadata": {},
   "outputs": [
    {
     "data": {
      "text/plain": [
       "[[10, 20, 30], [20, 30, 40], [30, 40, 50]]"
      ]
     },
     "execution_count": 7,
     "metadata": {},
     "output_type": "execute_result"
    }
   ],
   "source": [
    "matrix_list"
   ]
  },
  {
   "cell_type": "code",
   "execution_count": 8,
   "id": "a90b0ad6-bb82-4ec6-b291-ad0a4d034757",
   "metadata": {},
   "outputs": [
    {
     "data": {
      "text/plain": [
       "[20, 30, 40]"
      ]
     },
     "execution_count": 8,
     "metadata": {},
     "output_type": "execute_result"
    }
   ],
   "source": [
    "matrix_list[1]"
   ]
  },
  {
   "cell_type": "code",
   "execution_count": 9,
   "id": "9982a6eb-e3fc-4980-8320-236bd7e7ff4f",
   "metadata": {},
   "outputs": [
    {
     "data": {
      "text/plain": [
       "20"
      ]
     },
     "execution_count": 9,
     "metadata": {},
     "output_type": "execute_result"
    }
   ],
   "source": [
    "matrix_list[1][0]"
   ]
  },
  {
   "cell_type": "code",
   "execution_count": 11,
   "id": "9131d54a-3ddf-4b10-8727-fbc28defc2f0",
   "metadata": {},
   "outputs": [
    {
     "data": {
      "text/plain": [
       "array([[10, 20, 30],\n",
       "       [20, 30, 40],\n",
       "       [30, 40, 50]])"
      ]
     },
     "execution_count": 11,
     "metadata": {},
     "output_type": "execute_result"
    }
   ],
   "source": [
    "np.array(matrix_list)   # 2 boyutlu array"
   ]
  },
  {
   "cell_type": "markdown",
   "id": "1940f796-eda1-44ee-b4da-d3ee9bbf991a",
   "metadata": {},
   "source": [
    "## arange"
   ]
  },
  {
   "cell_type": "code",
   "execution_count": 12,
   "id": "1cf6690f-b01f-46f3-bf61-315a3b8cfa1e",
   "metadata": {},
   "outputs": [
    {
     "data": {
      "text/plain": [
       "[0, 1, 2, 3, 4, 5, 6, 7, 8, 9]"
      ]
     },
     "execution_count": 12,
     "metadata": {},
     "output_type": "execute_result"
    }
   ],
   "source": [
    "list(range(0,10))"
   ]
  },
  {
   "cell_type": "code",
   "execution_count": 13,
   "id": "8458918c-10c3-4fc6-95de-de0bb6e50f2c",
   "metadata": {},
   "outputs": [
    {
     "data": {
      "text/plain": [
       "array([0, 1, 2, 3, 4, 5, 6, 7, 8, 9])"
      ]
     },
     "execution_count": 13,
     "metadata": {},
     "output_type": "execute_result"
    }
   ],
   "source": [
    "np.arange(0,10)"
   ]
  },
  {
   "cell_type": "code",
   "execution_count": 15,
   "id": "f5b55cba-193b-44fe-8bfa-897e830b2870",
   "metadata": {},
   "outputs": [
    {
     "data": {
      "text/plain": [
       "array([ 0,  2,  4,  6,  8, 10, 12, 14, 16, 18])"
      ]
     },
     "execution_count": 15,
     "metadata": {},
     "output_type": "execute_result"
    }
   ],
   "source": [
    "np.arange(0,20,2)"
   ]
  },
  {
   "cell_type": "markdown",
   "id": "34bf72ea-1fbc-45c8-9df9-26f772bc0dbf",
   "metadata": {},
   "source": [
    "## zeros"
   ]
  },
  {
   "cell_type": "code",
   "execution_count": 16,
   "id": "570e768b-09c7-4116-a98b-505b795f0c56",
   "metadata": {},
   "outputs": [
    {
     "data": {
      "text/plain": [
       "array([0., 0., 0., 0., 0.])"
      ]
     },
     "execution_count": 16,
     "metadata": {},
     "output_type": "execute_result"
    }
   ],
   "source": [
    "np.zeros(5)"
   ]
  },
  {
   "cell_type": "code",
   "execution_count": 19,
   "id": "fd1e68b3-c53d-4a3f-a482-ca15a20b0acc",
   "metadata": {},
   "outputs": [
    {
     "data": {
      "text/plain": [
       "array([[0., 0.],\n",
       "       [0., 0.]])"
      ]
     },
     "execution_count": 19,
     "metadata": {},
     "output_type": "execute_result"
    }
   ],
   "source": [
    "np.zeros((2,2))"
   ]
  },
  {
   "cell_type": "markdown",
   "id": "68599e2d-250b-4400-a754-b8b6386dbcf4",
   "metadata": {},
   "source": [
    "## ones"
   ]
  },
  {
   "cell_type": "code",
   "execution_count": 20,
   "id": "b50767b7-6a2c-451a-becf-ad05d9711be3",
   "metadata": {},
   "outputs": [
    {
     "data": {
      "text/plain": [
       "array([1., 1., 1., 1., 1.])"
      ]
     },
     "execution_count": 20,
     "metadata": {},
     "output_type": "execute_result"
    }
   ],
   "source": [
    "np.ones(5)"
   ]
  },
  {
   "cell_type": "code",
   "execution_count": 21,
   "id": "77da6b18-e455-4b5c-b9a4-2be03be2b56a",
   "metadata": {},
   "outputs": [
    {
     "data": {
      "text/plain": [
       "array([[1., 1., 1.],\n",
       "       [1., 1., 1.],\n",
       "       [1., 1., 1.]])"
      ]
     },
     "execution_count": 21,
     "metadata": {},
     "output_type": "execute_result"
    }
   ],
   "source": [
    "np.ones((3,3))"
   ]
  },
  {
   "cell_type": "markdown",
   "id": "f27ba1b2-fc21-49fb-a52c-995aa95b9026",
   "metadata": {},
   "source": [
    "## linspace"
   ]
  },
  {
   "cell_type": "code",
   "execution_count": 22,
   "id": "d5e457d8-131b-4296-a275-62863d049252",
   "metadata": {},
   "outputs": [
    {
     "data": {
      "text/plain": [
       "array([ 0.,  5., 10., 15., 20.])"
      ]
     },
     "execution_count": 22,
     "metadata": {},
     "output_type": "execute_result"
    }
   ],
   "source": [
    "np.linspace(0,20,5)"
   ]
  },
  {
   "cell_type": "code",
   "execution_count": 23,
   "id": "c2a30510-9f08-4b15-9609-782cff5b23fa",
   "metadata": {},
   "outputs": [
    {
     "data": {
      "text/plain": [
       "array([ 0.        ,  0.52631579,  1.05263158,  1.57894737,  2.10526316,\n",
       "        2.63157895,  3.15789474,  3.68421053,  4.21052632,  4.73684211,\n",
       "        5.26315789,  5.78947368,  6.31578947,  6.84210526,  7.36842105,\n",
       "        7.89473684,  8.42105263,  8.94736842,  9.47368421, 10.        ])"
      ]
     },
     "execution_count": 23,
     "metadata": {},
     "output_type": "execute_result"
    }
   ],
   "source": [
    "np.linspace(0,10,20)"
   ]
  },
  {
   "cell_type": "markdown",
   "id": "6b63e9a4-6aa1-45d4-9b19-5af4786cef36",
   "metadata": {},
   "source": [
    "## eye"
   ]
  },
  {
   "cell_type": "code",
   "execution_count": 24,
   "id": "7c031f12-04ec-47b1-993c-4df57b73b396",
   "metadata": {},
   "outputs": [
    {
     "data": {
      "text/plain": [
       "array([[1., 0., 0.],\n",
       "       [0., 1., 0.],\n",
       "       [0., 0., 1.]])"
      ]
     },
     "execution_count": 24,
     "metadata": {},
     "output_type": "execute_result"
    }
   ],
   "source": [
    "np.eye(3)"
   ]
  },
  {
   "cell_type": "markdown",
   "id": "ff408881-944e-4e5d-a477-941a9e03556f",
   "metadata": {},
   "source": [
    "## random"
   ]
  },
  {
   "cell_type": "code",
   "execution_count": 26,
   "id": "ec5ac71a-8752-4d3d-866e-8b7ed7c22e22",
   "metadata": {},
   "outputs": [
    {
     "data": {
      "text/plain": [
       "array([ 1.97598495,  0.00991   ,  1.60730209, -0.46896613])"
      ]
     },
     "execution_count": 26,
     "metadata": {},
     "output_type": "execute_result"
    }
   ],
   "source": [
    "np.random.randn(4)    # randn()  ile rastgele rakanlı tek boyutlu 4 elemanlı array oluşturdu"
   ]
  },
  {
   "cell_type": "code",
   "execution_count": 31,
   "id": "fb666ce9-7c9a-4fe2-8c18-fb665f84683c",
   "metadata": {},
   "outputs": [
    {
     "data": {
      "text/plain": [
       "array([[ 0.56261134, -1.33137615, -0.25731766, -1.30312148],\n",
       "       [ 0.64868849, -0.22087834,  0.30749883,  0.66815789],\n",
       "       [-1.11861719,  0.79397798,  1.24867643,  0.65446383],\n",
       "       [-1.13238746,  0.11791991, -1.07170077,  0.45938487]])"
      ]
     },
     "execution_count": 31,
     "metadata": {},
     "output_type": "execute_result"
    }
   ],
   "source": [
    "np.random.randn(4,4)    # randn()  ile rastgele rakanlı iki boyutlu 4 elemanlı array oluşturdu"
   ]
  },
  {
   "cell_type": "code",
   "execution_count": 30,
   "id": "4e082000-2665-4121-8764-5cb8fa547959",
   "metadata": {},
   "outputs": [
    {
     "data": {
      "text/plain": [
       "8"
      ]
     },
     "execution_count": 30,
     "metadata": {},
     "output_type": "execute_result"
    }
   ],
   "source": [
    "np.random.randint(1,10)"
   ]
  },
  {
   "cell_type": "code",
   "execution_count": 32,
   "id": "3c30a8af-d4cb-4ffb-9f4c-0bdedf6e77ae",
   "metadata": {},
   "outputs": [
    {
     "data": {
      "text/plain": [
       "array([2, 4, 6, 7, 5])"
      ]
     },
     "execution_count": 32,
     "metadata": {},
     "output_type": "execute_result"
    }
   ],
   "source": [
    "np.random.randint(1,10,5)"
   ]
  },
  {
   "cell_type": "code",
   "execution_count": 33,
   "id": "2d1d86fa-8ab4-4186-a113-d1e452ba4d54",
   "metadata": {},
   "outputs": [
    {
     "data": {
      "text/plain": [
       "array([ 23, 266, 137, 283, 275])"
      ]
     },
     "execution_count": 33,
     "metadata": {},
     "output_type": "execute_result"
    }
   ],
   "source": [
    "np.random.randint(1,300,5)"
   ]
  },
  {
   "cell_type": "code",
   "execution_count": 34,
   "id": "db0d256c-6746-4860-8dee-28d4650fcf62",
   "metadata": {},
   "outputs": [],
   "source": [
    "my_Numpyarr = np.arange(30)"
   ]
  },
  {
   "cell_type": "code",
   "execution_count": 35,
   "id": "f5cc8441-bda1-4c75-b86d-36e7d95881f0",
   "metadata": {},
   "outputs": [
    {
     "data": {
      "text/plain": [
       "array([ 0,  1,  2,  3,  4,  5,  6,  7,  8,  9, 10, 11, 12, 13, 14, 15, 16,\n",
       "       17, 18, 19, 20, 21, 22, 23, 24, 25, 26, 27, 28, 29])"
      ]
     },
     "execution_count": 35,
     "metadata": {},
     "output_type": "execute_result"
    }
   ],
   "source": [
    "my_Numpyarr"
   ]
  },
  {
   "cell_type": "code",
   "execution_count": 36,
   "id": "d21b994a-ee3f-46ba-b287-fd9354e2ebc6",
   "metadata": {},
   "outputs": [],
   "source": [
    "my_Randomarr = np.random.randint(0,100,30)"
   ]
  },
  {
   "cell_type": "code",
   "execution_count": 37,
   "id": "e5f44231-9b3f-47f2-88b0-d0bb50349d54",
   "metadata": {},
   "outputs": [
    {
     "data": {
      "text/plain": [
       "array([29, 64, 45, 72, 74, 45, 77, 88, 92, 96, 34,  2, 54, 26, 92, 15,  7,\n",
       "       89, 62, 60, 49,  2, 97, 48, 28, 58, 10, 92, 25, 15])"
      ]
     },
     "execution_count": 37,
     "metadata": {},
     "output_type": "execute_result"
    }
   ],
   "source": [
    "my_Randomarr"
   ]
  },
  {
   "cell_type": "markdown",
   "id": "6badecf5-6f51-47bf-84f0-d1d07d118003",
   "metadata": {},
   "source": [
    "## numpy dizi metodları"
   ]
  },
  {
   "cell_type": "code",
   "execution_count": 40,
   "id": "9ab0be80-799f-4620-8220-ec4db84f83a4",
   "metadata": {},
   "outputs": [
    {
     "data": {
      "text/plain": [
       "array([ 0,  1,  2,  3,  4,  5,  6,  7,  8,  9, 10, 11, 12, 13, 14, 15, 16,\n",
       "       17, 18, 19, 20, 21, 22, 23, 24, 25, 26, 27, 28, 29])"
      ]
     },
     "execution_count": 40,
     "metadata": {},
     "output_type": "execute_result"
    }
   ],
   "source": [
    "my_Numpyarr"
   ]
  },
  {
   "cell_type": "code",
   "execution_count": 43,
   "id": "8cd38ef1-da83-4d58-bfae-a16b4652622d",
   "metadata": {},
   "outputs": [
    {
     "data": {
      "text/plain": [
       "(30,)"
      ]
     },
     "execution_count": 43,
     "metadata": {},
     "output_type": "execute_result"
    }
   ],
   "source": [
    "my_Numpyarr.shape   # 30 x 1  boyutunda array"
   ]
  },
  {
   "cell_type": "code",
   "execution_count": 41,
   "id": "53a7db9f-202e-46b8-88d7-4b02d4ba43bb",
   "metadata": {},
   "outputs": [
    {
     "data": {
      "text/plain": [
       "array([[ 0,  1,  2,  3,  4],\n",
       "       [ 5,  6,  7,  8,  9],\n",
       "       [10, 11, 12, 13, 14],\n",
       "       [15, 16, 17, 18, 19],\n",
       "       [20, 21, 22, 23, 24],\n",
       "       [25, 26, 27, 28, 29]])"
      ]
     },
     "execution_count": 41,
     "metadata": {},
     "output_type": "execute_result"
    }
   ],
   "source": [
    "my_Numpyarr.reshape(6,5)"
   ]
  },
  {
   "cell_type": "code",
   "execution_count": 42,
   "id": "8e9e90f6-73d4-4e04-affa-a35ec1917e26",
   "metadata": {},
   "outputs": [
    {
     "data": {
      "text/plain": [
       "array([[ 0,  1,  2,  3,  4,  5],\n",
       "       [ 6,  7,  8,  9, 10, 11],\n",
       "       [12, 13, 14, 15, 16, 17],\n",
       "       [18, 19, 20, 21, 22, 23],\n",
       "       [24, 25, 26, 27, 28, 29]])"
      ]
     },
     "execution_count": 42,
     "metadata": {},
     "output_type": "execute_result"
    }
   ],
   "source": [
    "my_Numpyarr.reshape(5,6)"
   ]
  },
  {
   "cell_type": "code",
   "execution_count": 44,
   "id": "6ee0ab1a-2d56-473c-adc2-039b8864176f",
   "metadata": {},
   "outputs": [
    {
     "data": {
      "text/plain": [
       "29"
      ]
     },
     "execution_count": 44,
     "metadata": {},
     "output_type": "execute_result"
    }
   ],
   "source": [
    "my_Numpyarr.max()"
   ]
  },
  {
   "cell_type": "code",
   "execution_count": 47,
   "id": "7c70db61-ac62-4a52-a06c-304d7ba233ff",
   "metadata": {},
   "outputs": [
    {
     "data": {
      "text/plain": [
       "97"
      ]
     },
     "execution_count": 47,
     "metadata": {},
     "output_type": "execute_result"
    }
   ],
   "source": [
    "my_Randomarr.max()"
   ]
  },
  {
   "cell_type": "code",
   "execution_count": 48,
   "id": "8be7749a-76d9-4ffe-abad-e45f503e3fd9",
   "metadata": {},
   "outputs": [
    {
     "data": {
      "text/plain": [
       "0"
      ]
     },
     "execution_count": 48,
     "metadata": {},
     "output_type": "execute_result"
    }
   ],
   "source": [
    "my_Numpyarr.min()"
   ]
  },
  {
   "cell_type": "code",
   "execution_count": 49,
   "id": "c0c9b0d2-8442-4196-9c48-a0b4541b5e24",
   "metadata": {},
   "outputs": [
    {
     "data": {
      "text/plain": [
       "2"
      ]
     },
     "execution_count": 49,
     "metadata": {},
     "output_type": "execute_result"
    }
   ],
   "source": [
    "my_Randomarr.min()"
   ]
  },
  {
   "cell_type": "code",
   "execution_count": 52,
   "id": "ef9ccc57-3ed6-4254-a8d2-2794d08aac17",
   "metadata": {},
   "outputs": [
    {
     "data": {
      "text/plain": [
       "22"
      ]
     },
     "execution_count": 52,
     "metadata": {},
     "output_type": "execute_result"
    }
   ],
   "source": [
    "my_Randomarr.argmax()   # indeksi"
   ]
  },
  {
   "cell_type": "code",
   "execution_count": 53,
   "id": "f6f7beb8-068a-45ca-9860-bde8cd8b8284",
   "metadata": {},
   "outputs": [
    {
     "data": {
      "text/plain": [
       "11"
      ]
     },
     "execution_count": 53,
     "metadata": {},
     "output_type": "execute_result"
    }
   ],
   "source": [
    "my_Randomarr.argmin()"
   ]
  },
  {
   "cell_type": "code",
   "execution_count": 54,
   "id": "a8d4bf98-2139-46e3-9b8d-d2cc5043638a",
   "metadata": {},
   "outputs": [
    {
     "data": {
      "text/plain": [
       "(30,)"
      ]
     },
     "execution_count": 54,
     "metadata": {},
     "output_type": "execute_result"
    }
   ],
   "source": [
    "my_Numpyarr.shape"
   ]
  },
  {
   "cell_type": "code",
   "execution_count": 55,
   "id": "82cb49e5-7b3c-4384-a327-9c188ce837b1",
   "metadata": {},
   "outputs": [
    {
     "data": {
      "text/plain": [
       "array([ 0,  1,  2,  3,  4,  5,  6,  7,  8,  9, 10, 11, 12, 13, 14, 15, 16,\n",
       "       17, 18, 19, 20, 21, 22, 23, 24, 25, 26, 27, 28, 29])"
      ]
     },
     "execution_count": 55,
     "metadata": {},
     "output_type": "execute_result"
    }
   ],
   "source": [
    "my_Numpyarr"
   ]
  },
  {
   "cell_type": "code",
   "execution_count": 56,
   "id": "6c85b898-0940-4207-af9d-6a959b1a27ef",
   "metadata": {},
   "outputs": [],
   "source": [
    "reshape_my_Numpyarr = my_Numpyarr.reshape(5,6)"
   ]
  },
  {
   "cell_type": "code",
   "execution_count": 57,
   "id": "9702787e-0f28-454d-924e-e1739c09c0c7",
   "metadata": {},
   "outputs": [
    {
     "data": {
      "text/plain": [
       "array([[ 0,  1,  2,  3,  4,  5],\n",
       "       [ 6,  7,  8,  9, 10, 11],\n",
       "       [12, 13, 14, 15, 16, 17],\n",
       "       [18, 19, 20, 21, 22, 23],\n",
       "       [24, 25, 26, 27, 28, 29]])"
      ]
     },
     "execution_count": 57,
     "metadata": {},
     "output_type": "execute_result"
    }
   ],
   "source": [
    "reshape_my_Numpyarr"
   ]
  },
  {
   "cell_type": "code",
   "execution_count": 58,
   "id": "2124a9ae-d276-460b-8494-37789ee6de6e",
   "metadata": {},
   "outputs": [
    {
     "data": {
      "text/plain": [
       "(5, 6)"
      ]
     },
     "execution_count": 58,
     "metadata": {},
     "output_type": "execute_result"
    }
   ],
   "source": [
    "reshape_my_Numpyarr.shape"
   ]
  },
  {
   "cell_type": "code",
   "execution_count": null,
   "id": "e39498f4-3e75-4c3e-a987-d039a582b43a",
   "metadata": {},
   "outputs": [],
   "source": []
  }
 ],
 "metadata": {
  "kernelspec": {
   "display_name": "Python 3 (ipykernel)",
   "language": "python",
   "name": "python3"
  },
  "language_info": {
   "codemirror_mode": {
    "name": "ipython",
    "version": 3
   },
   "file_extension": ".py",
   "mimetype": "text/x-python",
   "name": "python",
   "nbconvert_exporter": "python",
   "pygments_lexer": "ipython3",
   "version": "3.12.4"
  }
 },
 "nbformat": 4,
 "nbformat_minor": 5
}
